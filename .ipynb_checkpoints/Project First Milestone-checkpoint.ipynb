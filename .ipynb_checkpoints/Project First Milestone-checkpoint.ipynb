{
 "cells": [
  {
   "cell_type": "markdown",
   "id": "6f44ca73",
   "metadata": {},
   "source": [
    "# Project First Milestone\n",
    "\n",
    "#### Note: data set too large to include entirely. Small portion contained."
   ]
  },
  {
   "cell_type": "markdown",
   "id": "a5ea7197",
   "metadata": {},
   "source": [
    "Description: "
   ]
  },
  {
   "cell_type": "markdown",
   "id": "3df3ef48",
   "metadata": {},
   "source": [
    "## Data Description"
   ]
  },
  {
   "cell_type": "markdown",
   "id": "64801ef9",
   "metadata": {},
   "source": []
  },
  {
   "cell_type": "markdown",
   "id": "5ad68193",
   "metadata": {},
   "source": [
    "## Ethical Data Concerns"
   ]
  },
  {
   "cell_type": "markdown",
   "id": "da9fd101",
   "metadata": {},
   "source": []
  },
  {
   "cell_type": "markdown",
   "id": "1dbb81f7",
   "metadata": {},
   "source": [
    "## Methods"
   ]
  },
  {
   "cell_type": "markdown",
   "id": "00614618",
   "metadata": {},
   "source": []
  },
  {
   "cell_type": "markdown",
   "id": "5f1bd549",
   "metadata": {},
   "source": [
    "## Preliminary Results"
   ]
  },
  {
   "cell_type": "markdown",
   "id": "d981cff8",
   "metadata": {},
   "source": []
  },
  {
   "cell_type": "markdown",
   "id": "55408971",
   "metadata": {},
   "source": [
    "## Completed Milestones"
   ]
  },
  {
   "cell_type": "markdown",
   "id": "5e4738ac",
   "metadata": {},
   "source": []
  },
  {
   "cell_type": "markdown",
   "id": "c56901fa",
   "metadata": {},
   "source": [
    "## Methods Milestones"
   ]
  },
  {
   "cell_type": "markdown",
   "id": "709705b9",
   "metadata": {},
   "source": []
  },
  {
   "cell_type": "markdown",
   "id": "4966d8b3",
   "metadata": {},
   "source": [
    "## Summary"
   ]
  },
  {
   "cell_type": "markdown",
   "id": "4510316f",
   "metadata": {},
   "source": []
  }
 ],
 "metadata": {
  "kernelspec": {
   "display_name": "Python 3 (ipykernel)",
   "language": "python",
   "name": "python3"
  },
  "language_info": {
   "codemirror_mode": {
    "name": "ipython",
    "version": 3
   },
   "file_extension": ".py",
   "mimetype": "text/x-python",
   "name": "python",
   "nbconvert_exporter": "python",
   "pygments_lexer": "ipython3",
   "version": "3.11.5"
  }
 },
 "nbformat": 4,
 "nbformat_minor": 5
}
