{
 "cells": [
  {
   "cell_type": "markdown",
   "id": "dbcee735",
   "metadata": {},
   "source": [
    "# AO3 Project\n",
    "## Tags Assessment\n",
    "\n",
    "\n",
    "### Introduction\n",
    "___\n",
    "\n",
    "This document will contain analysis of the AO3 tags. We start by assessing a sample data set."
   ]
  },
  {
   "cell_type": "code",
   "execution_count": 1,
   "id": "c633fc09",
   "metadata": {
    "scrolled": true
   },
   "outputs": [
    {
     "ename": "NameError",
     "evalue": "name 'tag_counts' is not defined",
     "output_type": "error",
     "traceback": [
      "\u001b[1;31m---------------------------------------------------------------------------\u001b[0m",
      "\u001b[1;31mNameError\u001b[0m                                 Traceback (most recent call last)",
      "Cell \u001b[1;32mIn[1], line 18\u001b[0m\n\u001b[0;32m     16\u001b[0m tag_list \u001b[38;5;241m=\u001b[39m []\n\u001b[0;32m     17\u001b[0m count_list \u001b[38;5;241m=\u001b[39m []\n\u001b[1;32m---> 18\u001b[0m \u001b[38;5;28;01mfor\u001b[39;00m value \u001b[38;5;129;01min\u001b[39;00m tag_counts\u001b[38;5;241m.\u001b[39mindex\u001b[38;5;241m.\u001b[39mto_list():\n\u001b[0;32m     19\u001b[0m     tag_list\u001b[38;5;241m.\u001b[39mappend(value)\n\u001b[0;32m     20\u001b[0m     count_list\u001b[38;5;241m.\u001b[39mappend(tag_counts[value])\n",
      "\u001b[1;31mNameError\u001b[0m: name 'tag_counts' is not defined"
     ]
    }
   ],
   "source": [
    "import pandas as pd\n",
    "import csv\n",
    "import sqlite3\n",
    "\n",
    "# Assessing Top Tags\n",
    "data = pd.read_csv(\"small_story_tags.csv\")\n",
    "try:\n",
    "    data = data.drop(columns= [\"Unnamed: 0\"])\n",
    "    data= data.drop(columns=[\"Unnamed: 0.1\"])\n",
    "except:\n",
    "    pass\n",
    "\n",
    "# Top 40 Tags\n",
    "tag_count = data[\"Tag Name\"].value_counts()[:40]\n",
    "\n",
    "tag_list = []\n",
    "count_list = []\n",
    "for value in tag_counts.index.to_list():\n",
    "    tag_list.append(value)\n",
    "    count_list.append(tag_counts[value])\n",
    "\n",
    "\n",
    "top_40 = pd.DataFrame({ \"Tag Name\": tag_list,\n",
    "                       \"Total Uses\": count_list\n",
    "})\n",
    "unique_stories = []\n",
    "\n",
    "for number in data[\"storyId\"]:\n",
    "    if number not in unique_stories:\n",
    "        unique_stories.append(number)\n",
    "    \n",
    "print(len(unique_stories))\n",
    "data"
   ]
  },
  {
   "cell_type": "markdown",
   "id": "0f6e3ea8",
   "metadata": {},
   "source": [
    "# 1000 \n",
    "\n",
    "---\n",
    "Goals with assessing tags: most popular fandoms, most popular tags within each fandom."
   ]
  },
  {
   "cell_type": "code",
   "execution_count": null,
   "id": "3277f9e4",
   "metadata": {},
   "outputs": [],
   "source": [
    "import pandas as pd\n",
    "import numpy as np\n",
    "import matplotlib.pyplot as plt\n",
    "%matplotlib inline\n",
    "plt.style.use('ggplot')\n",
    "\n",
    "# Graphing our Series\n",
    "plt.bar(top_40.index.to_list(), top_40[\"Total Uses\"])\n",
    "plt.xticks(top_40.index.to_list(), top_40[\"Tag Name\"], rotation = 90)\n",
    "plt.show()"
   ]
  },
  {
   "cell_type": "code",
   "execution_count": null,
   "id": "c161c695",
   "metadata": {},
   "outputs": [],
   "source": []
  }
 ],
 "metadata": {
  "kernelspec": {
   "display_name": "Python 3 (ipykernel)",
   "language": "python",
   "name": "python3"
  },
  "language_info": {
   "codemirror_mode": {
    "name": "ipython",
    "version": 3
   },
   "file_extension": ".py",
   "mimetype": "text/x-python",
   "name": "python",
   "nbconvert_exporter": "python",
   "pygments_lexer": "ipython3",
   "version": "3.11.5"
  }
 },
 "nbformat": 4,
 "nbformat_minor": 5
}
