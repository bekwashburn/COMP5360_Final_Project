{
 "cells": [
  {
   "cell_type": "markdown",
   "id": "529edf61",
   "metadata": {},
   "source": [
    "### Testing \n"
   ]
  },
  {
   "cell_type": "code",
   "execution_count": 8,
   "id": "b2361eaf",
   "metadata": {},
   "outputs": [
    {
     "name": "stdout",
     "output_type": "stream",
     "text": [
      "done\n"
     ]
    }
   ],
   "source": [
    "import pandas as pd\n",
    "import sqlite3\n",
    "\n",
    "# Goal of the code is \n",
    "con = sqlite3.connect(\"organizedData.sqlite3\")\n",
    "db_df = pd.read_sql_query(\"SELECT * FROM Ratings\", con)\n",
    "print(\"done\")"
   ]
  },
  {
   "cell_type": "code",
   "execution_count": 9,
   "id": "2d13670c",
   "metadata": {},
   "outputs": [
    {
     "name": "stdout",
     "output_type": "stream",
     "text": [
      "   id               name\n",
      "0  -1          Not Rated\n",
      "1   0  General Audiences\n",
      "2   1        Teen And Up\n",
      "3   2             Mature\n",
      "4   3           Explicit\n"
     ]
    }
   ],
   "source": [
    "print((db_df))"
   ]
  },
  {
   "cell_type": "code",
   "execution_count": null,
   "id": "92d5bc6a",
   "metadata": {},
   "outputs": [],
   "source": []
  }
 ],
 "metadata": {
  "kernelspec": {
   "display_name": "Python 3 (ipykernel)",
   "language": "python",
   "name": "python3"
  },
  "language_info": {
   "codemirror_mode": {
    "name": "ipython",
    "version": 3
   },
   "file_extension": ".py",
   "mimetype": "text/x-python",
   "name": "python",
   "nbconvert_exporter": "python",
   "pygments_lexer": "ipython3",
   "version": "3.11.5"
  }
 },
 "nbformat": 4,
 "nbformat_minor": 5
}
