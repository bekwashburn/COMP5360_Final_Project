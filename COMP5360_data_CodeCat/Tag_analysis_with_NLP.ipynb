{
 "cells": [
  {
   "cell_type": "markdown",
   "id": "c18e61d3",
   "metadata": {},
   "source": [
    "# AO3 Project\n",
    "### Tag analysis with NLP\n",
    "Project contains analysis of AO3 tags using NLP"
   ]
  },
  {
   "cell_type": "code",
   "execution_count": 1,
   "id": "c58b0106",
   "metadata": {
    "scrolled": true
   },
   "outputs": [
    {
     "data": {
      "text/html": [
       "<div>\n",
       "<style scoped>\n",
       "    .dataframe tbody tr th:only-of-type {\n",
       "        vertical-align: middle;\n",
       "    }\n",
       "\n",
       "    .dataframe tbody tr th {\n",
       "        vertical-align: top;\n",
       "    }\n",
       "\n",
       "    .dataframe thead th {\n",
       "        text-align: right;\n",
       "    }\n",
       "</style>\n",
       "<table border=\"1\" class=\"dataframe\">\n",
       "  <thead>\n",
       "    <tr style=\"text-align: right;\">\n",
       "      <th></th>\n",
       "      <th>Unnamed: 0</th>\n",
       "      <th>storyId</th>\n",
       "      <th>tagId</th>\n",
       "      <th>Tag Name</th>\n",
       "      <th>Tag Type</th>\n",
       "    </tr>\n",
       "  </thead>\n",
       "  <tbody>\n",
       "    <tr>\n",
       "      <th>0</th>\n",
       "      <td>0</td>\n",
       "      <td>3</td>\n",
       "      <td>1</td>\n",
       "      <td>No Archive Warnings Apply</td>\n",
       "      <td>warning</td>\n",
       "    </tr>\n",
       "    <tr>\n",
       "      <th>1</th>\n",
       "      <td>1</td>\n",
       "      <td>3</td>\n",
       "      <td>2</td>\n",
       "      <td>Other</td>\n",
       "      <td>category</td>\n",
       "    </tr>\n",
       "    <tr>\n",
       "      <th>2</th>\n",
       "      <td>2</td>\n",
       "      <td>3</td>\n",
       "      <td>3</td>\n",
       "      <td>Viggo Mortensen/Orlando Bloom</td>\n",
       "      <td>relationship</td>\n",
       "    </tr>\n",
       "    <tr>\n",
       "      <th>3</th>\n",
       "      <td>3</td>\n",
       "      <td>3</td>\n",
       "      <td>4</td>\n",
       "      <td>Lord of the Rings RPF</td>\n",
       "      <td>fandom</td>\n",
       "    </tr>\n",
       "    <tr>\n",
       "      <th>4</th>\n",
       "      <td>4</td>\n",
       "      <td>3</td>\n",
       "      <td>5</td>\n",
       "      <td>Sean Bean</td>\n",
       "      <td>character</td>\n",
       "    </tr>\n",
       "    <tr>\n",
       "      <th>...</th>\n",
       "      <td>...</td>\n",
       "      <td>...</td>\n",
       "      <td>...</td>\n",
       "      <td>...</td>\n",
       "      <td>...</td>\n",
       "    </tr>\n",
       "    <tr>\n",
       "      <th>4189</th>\n",
       "      <td>4189</td>\n",
       "      <td>11615</td>\n",
       "      <td>1891</td>\n",
       "      <td>Brendon Urie</td>\n",
       "      <td>character</td>\n",
       "    </tr>\n",
       "    <tr>\n",
       "      <th>4190</th>\n",
       "      <td>4190</td>\n",
       "      <td>11615</td>\n",
       "      <td>1892</td>\n",
       "      <td>Ryan Ross</td>\n",
       "      <td>character</td>\n",
       "    </tr>\n",
       "    <tr>\n",
       "      <th>4191</th>\n",
       "      <td>4191</td>\n",
       "      <td>11615</td>\n",
       "      <td>1893</td>\n",
       "      <td>Jon Walker</td>\n",
       "      <td>character</td>\n",
       "    </tr>\n",
       "    <tr>\n",
       "      <th>4192</th>\n",
       "      <td>4192</td>\n",
       "      <td>11615</td>\n",
       "      <td>1894</td>\n",
       "      <td>Zack Hall</td>\n",
       "      <td>character</td>\n",
       "    </tr>\n",
       "    <tr>\n",
       "      <th>4193</th>\n",
       "      <td>4193</td>\n",
       "      <td>11615</td>\n",
       "      <td>187</td>\n",
       "      <td>First Time</td>\n",
       "      <td>generic</td>\n",
       "    </tr>\n",
       "  </tbody>\n",
       "</table>\n",
       "<p>4194 rows × 5 columns</p>\n",
       "</div>"
      ],
      "text/plain": [
       "      Unnamed: 0  storyId  tagId                       Tag Name      Tag Type\n",
       "0              0        3      1      No Archive Warnings Apply       warning\n",
       "1              1        3      2                          Other      category\n",
       "2              2        3      3  Viggo Mortensen/Orlando Bloom  relationship\n",
       "3              3        3      4          Lord of the Rings RPF        fandom\n",
       "4              4        3      5                      Sean Bean     character\n",
       "...          ...      ...    ...                            ...           ...\n",
       "4189        4189    11615   1891                   Brendon Urie     character\n",
       "4190        4190    11615   1892                      Ryan Ross     character\n",
       "4191        4191    11615   1893                     Jon Walker     character\n",
       "4192        4192    11615   1894                      Zack Hall     character\n",
       "4193        4193    11615    187                     First Time       generic\n",
       "\n",
       "[4194 rows x 5 columns]"
      ]
     },
     "execution_count": 1,
     "metadata": {},
     "output_type": "execute_result"
    }
   ],
   "source": [
    "import pandas as pd\n",
    "from sklearn.feature_extraction.text import CountVectorizer\n",
    "from sklearn.model_selection import train_test_split, cross_val_predict, cross_val_score\n",
    "from sklearn.naive_bayes import MultinomialNB\n",
    "from sklearn import metrics\n",
    "from sklearn.metrics import accuracy_score\n",
    "import nltk\n",
    "\n",
    "data_tags = pd.read_csv('small_story_tags.csv')\n",
    "data_tags"
   ]
  },
  {
   "cell_type": "code",
   "execution_count": 2,
   "id": "96534d0b",
   "metadata": {},
   "outputs": [
    {
     "name": "stdout",
     "output_type": "stream",
     "text": [
      "['warning' 'category' 'relationship' 'fandom' 'character' 'generic'] , 6\n",
      "\n",
      "['No Archive Warnings Apply' 'Other' 'Viggo Mortensen/Orlando Bloom' ...\n",
      " 'Ryan Ross' 'Jon Walker' 'Zack Hall'] , 1892\n"
     ]
    }
   ],
   "source": [
    "print(data_tags['Tag Type'].unique(),',',data_tags['Tag Type'].nunique())\n",
    "print()\n",
    "print(data_tags['Tag Name'].unique(),',',data_tags['Tag Name'].nunique())\n"
   ]
  },
  {
   "cell_type": "code",
   "execution_count": 3,
   "id": "cc1f39e0",
   "metadata": {},
   "outputs": [
    {
     "name": "stdout",
     "output_type": "stream",
     "text": [
      "Confusion Matrix:\n",
      "[[ 34   0   0  62   0   0]\n",
      " [ 18 125   9  17  42   0]\n",
      " [  6   2  83   8   0   0]\n",
      " [  8   3   7 238   0   3]\n",
      " [  2  65   2   1  14   1]\n",
      " [  0   0   0   0   0  89]]\n",
      "0.6948748510131109\n"
     ]
    }
   ],
   "source": [
    "tag_names = data_tags['Tag Name'].to_list()\n",
    "tag_names = [str(tag) for tag in tag_names]\n",
    "tag_names_str = ' '.join(tag_names)\n",
    "\n",
    "CountV = CountVectorizer()\n",
    "CountV_tag_names = CountV.fit_transform(tag_names)\n",
    "\n",
    "X_train, X_test, y_train, y_test = train_test_split(CountV_tag_names, data_tags['Tag Type'], train_size=0.8)\n",
    "\n",
    "tags_classifier = MultinomialNB()\n",
    "tags_classifier.fit(X_train,y_train)\n",
    "tags_pred = tags_classifier.predict(X_test)\n",
    "print('Confusion Matrix:')\n",
    "print(metrics.confusion_matrix(y_true = y_test, y_pred = tags_pred))\n",
    "print(accuracy_score(y_test, tags_pred))\n"
   ]
  },
  {
   "cell_type": "markdown",
   "id": "75bed5d2",
   "metadata": {},
   "source": [
    "### Result: \n",
    "- The natural language learning model is able to predict the correct tag type based on the tag name with about 70% accuracy. Often, it would confuse \"category\" tags with \"character\" tags or \"fandoms\" with \"warnings\"."
   ]
  }
 ],
 "metadata": {
  "kernelspec": {
   "display_name": "Python 3 (ipykernel)",
   "language": "python",
   "name": "python3"
  },
  "language_info": {
   "codemirror_mode": {
    "name": "ipython",
    "version": 3
   },
   "file_extension": ".py",
   "mimetype": "text/x-python",
   "name": "python",
   "nbconvert_exporter": "python",
   "pygments_lexer": "ipython3",
   "version": "3.11.5"
  }
 },
 "nbformat": 4,
 "nbformat_minor": 5
}
