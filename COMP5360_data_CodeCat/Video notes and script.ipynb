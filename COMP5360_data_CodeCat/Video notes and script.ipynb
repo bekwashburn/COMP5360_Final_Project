{
 "cells": [
  {
   "cell_type": "markdown",
   "id": "36b34e90",
   "metadata": {},
   "source": [
    "# Video notes and script"
   ]
  },
  {
   "cell_type": "markdown",
   "id": "8dbee921",
   "metadata": {},
   "source": [
    "## Summary\n",
    "\n",
    "Intro:\n",
    "- Fanfiction is a popular ...\n",
    "\n",
    "Our goals:\n",
    "- We want to find ...\n",
    "- We wanted to make a natural language learning model that could be used to check if it could guess the tag type based on the name of the tag alone. For ex: \"Ryan Ross\", \"Sean Bean\", and \"Jon Walker\" are character tags while \"Lord of the Rings RPF\" is a fandom tag.\n",
    "\n",
    "Ethical concerns:\n",
    "- Many fanfiction writers don't want their work to become part of a language learning program that will be used to duplicate their work. \n",
    "- Fanfiction has a stigma of being just pornographic writing. ...\n",
    "\n",
    "Processing:\n",
    "- \n",
    "\n",
    "Findings:\n",
    "- \n",
    "\n",
    "Final comments:\n",
    "- "
   ]
  }
 ],
 "metadata": {
  "kernelspec": {
   "display_name": "Python 3 (ipykernel)",
   "language": "python",
   "name": "python3"
  },
  "language_info": {
   "codemirror_mode": {
    "name": "ipython",
    "version": 3
   },
   "file_extension": ".py",
   "mimetype": "text/x-python",
   "name": "python",
   "nbconvert_exporter": "python",
   "pygments_lexer": "ipython3",
   "version": "3.11.5"
  }
 },
 "nbformat": 4,
 "nbformat_minor": 5
}
