{
 "cells": [
  {
   "cell_type": "markdown",
   "id": "14a1a6bc",
   "metadata": {},
   "source": [
    "# Video notes and script"
   ]
  },
  {
   "cell_type": "markdown",
   "id": "bc646fab",
   "metadata": {},
   "source": [
    "## Summary\n",
    "\n",
    "Intro:\n",
    "- Fanfiction reading and writing is a popular pastime for many. ...\n",
    "\n",
    "Our goals:\n",
    "- We want to find what are the most popular fics, what contributes to popularity (rating level, number of comments, etc)\n",
    "- ...\n",
    "- We wanted to make a natural language learning model that could be used to check if it could guess the tag type based on the name of the tag alone. For ex: \"Ryan Ross\", \"Sean Bean\", and \"Jon Walker\" are character tags while \"Lord of the Rings RPF\" is a fandom tag.\n",
    "\n",
    "Ethical concerns:\n",
    "- Many fanfiction writers don't want their work to become part of a language learning program that will be used to duplicate their work. \n",
    "- ??? There is a stigma that all fanfics are just pornographic works and our analysis could confirm this stigma or debunk it. ???\n",
    "\n",
    "Processing:\n",
    "- Reddit user, theCodeCat, scraped data from AO3 and obtained approximately 6 million different works from it.\n",
    "- theCodeCat stored and organized the data into SQlite3 and we had to unpack that data.\n",
    "- once unpacked we were able to perform statistical tests on it to find trends in many aspects of the data.\n",
    "\n",
    "Findings:\n",
    "- Our results show that the most popular mediums of fanfiction are more explicit. However, the vast majority of works are not explicit.  \n",
    "- ...\n",
    "\n",
    "Final comments:\n",
    "- Fanfiction is a great pastime that has a wide variety of options for people to enjoy. While ... is true, there are still ..."
   ]
  }
 ],
 "metadata": {
  "kernelspec": {
   "display_name": "Python 3 (ipykernel)",
   "language": "python",
   "name": "python3"
  },
  "language_info": {
   "codemirror_mode": {
    "name": "ipython",
    "version": 3
   },
   "file_extension": ".py",
   "mimetype": "text/x-python",
   "name": "python",
   "nbconvert_exporter": "python",
   "pygments_lexer": "ipython3",
   "version": "3.11.5"
  }
 },
 "nbformat": 4,
 "nbformat_minor": 5
}
