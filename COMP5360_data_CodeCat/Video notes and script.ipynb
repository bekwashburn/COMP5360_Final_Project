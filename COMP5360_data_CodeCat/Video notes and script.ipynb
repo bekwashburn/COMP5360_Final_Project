{
 "cells": [
  {
   "cell_type": "markdown",
   "id": "14a1a6bc",
   "metadata": {},
   "source": [
    "# Video notes and script"
   ]
  },
  {
   "cell_type": "markdown",
   "id": "bc646fab",
   "metadata": {},
   "source": [
    "## Summary\n",
    "\n",
    "Intro:\n",
    "- Fanfiction reading and writing is a popular pastime for many. The objective of our project was to determine if someone were to make a fanfiction, what attributes would make the work become popular quickly.\n",
    "\n",
    "Our steps:\n",
    "- To accomlish this objective, we used key indicators---kudos (aka likes), comments, bookmarks, and hits (aka views)---to determine the popularity of a work. We then used these key indicators to numerically represent the popularity of a work as we analyzed its length, rating, language, and finished/unfinished status.\n",
    "\n",
    "Processing:\n",
    "- We obtained data from a Reddit user, theCodeCat, who scraped data from Archive of Our Own (AO3) and obtained approximately 6 million different works from it.\n",
    "- the data was stored in an SQlite3 and we had to unpack that data.\n",
    "- once unpacked we were able to perform statistical tests on it to find trends in many aspects of the data.\n",
    "\n",
    "Findings: (TODO: should we be using z-tests instead of t-tests to confirm our findings?)\n",
    "- using a correlation color map, we found that all metrics of popularity are positively correlated. \n",
    "- based on correlational tests and confirmed to be statistically significant by t-tests, we found that:\n",
    "    + longer stories (ones with longer word counts) are more popular\n",
    "    + explicit and mature fanfics are more popular. (However, most works written on AO3 are rated General or Teen) \n",
    "    + unfinished fanfics are more popular\n",
    "    + english fanfics are more popular\n",
    "- we also tested to see how many key indicators the top 1, 5, and 10% of fanfics had. \n",
    "    + We found that the top 1% of fanfics had an average of 27.53% of key indicators (range: 20.54 to 35.03%). \n",
    "    + The top 5% of fanfics had an average of 51.89% of key indicators (range: 43.82 to 60.24%). \n",
    "    + The top 10% of fanfics had an average of 65.15% of key indicators (range: 57.96 to 72.08%).\n",
    "    - Note: This indicates that the popular works dominate the fanfiction space.\n",
    "\n",
    "Final comments:\n",
    "- Fanfiction reading and writing is a great pastime that has a wide variety of options for people to enjoy. From our analysis, we have found that if a fic was being designed to become popular on AO3, it should be over 100000 words, explicit, labeled as unfinished, and be written in english. \n",
    "\n",
    "**Note: While our findings do indicate that explicit content is popular in fanfiction, we do not promote writing explicit material, just that it is one indicator of popularity.**"
   ]
  },
  {
   "cell_type": "code",
   "execution_count": null,
   "id": "5f23bfc1",
   "metadata": {},
   "outputs": [],
   "source": []
  }
 ],
 "metadata": {
  "kernelspec": {
   "display_name": "Python 3 (ipykernel)",
   "language": "python",
   "name": "python3"
  },
  "language_info": {
   "codemirror_mode": {
    "name": "ipython",
    "version": 3
   },
   "file_extension": ".py",
   "mimetype": "text/x-python",
   "name": "python",
   "nbconvert_exporter": "python",
   "pygments_lexer": "ipython3",
   "version": "3.11.5"
  }
 },
 "nbformat": 4,
 "nbformat_minor": 5
}
