{
 "cells": [
  {
   "cell_type": "markdown",
   "id": "fcf4dc5d",
   "metadata": {},
   "source": [
    "# First Milestone\n",
    "\n",
    "#### *Note - This section is also included in our First Milestone submission.*\n",
    "\n",
    "\n",
    "## Peer Feedback\n",
    "\n",
    "#### Feedback given by: Chetan Elenki, Augustine Takyi, and Kalpana Simhadri\n",
    "\n",
    "The feedback given by Chetan Elenki, Augustine Takyi, and Kalpana Simhadri was of high-quality, indicating that they understood our project and had good ideas about how to improve it. Some of their ideas are summarized below:\n",
    "- Instead of randomly sampling works, we could do something called stratified sampling - which involves breaking the data into relevant \"strata\" and sampling randomly from each. For example, in collecting a survey sample you may stratify your population in Male and Female groups, and randomly pick 50% of your total sample from each group.\n",
    "- Having different sized samples for different questions, choosing sample size based on file size. For example, having a sample of 10,000 whole fan-works with text takes much more time to run code on and uses up much more storage space than having a sample of 10,000 fan-works with only meta-data attached.\n",
    "- Using t-tests instead of z-tests, since the population variance is not known."
   ]
  },
  {
   "cell_type": "markdown",
   "id": "2d1a3e31",
   "metadata": {},
   "source": [
    "We were able to implement their second idea with our cleaning and analyzing of works tags. We had also looked into this idea prior to their feedback, as csv file containing our chapter text was unable to store all the chapters for works used in our numerical based analysis. We plan to consider and potentially implement the other two main ideas they proposed."
   ]
  }
 ],
 "metadata": {
  "kernelspec": {
   "display_name": "Python 3 (ipykernel)",
   "language": "python",
   "name": "python3"
  },
  "language_info": {
   "codemirror_mode": {
    "name": "ipython",
    "version": 3
   },
   "file_extension": ".py",
   "mimetype": "text/x-python",
   "name": "python",
   "nbconvert_exporter": "python",
   "pygments_lexer": "ipython3",
   "version": "3.11.5"
  }
 },
 "nbformat": 4,
 "nbformat_minor": 5
}
