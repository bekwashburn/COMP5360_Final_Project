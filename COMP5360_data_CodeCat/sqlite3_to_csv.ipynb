{
 "cells": [
  {
   "cell_type": "markdown",
   "id": "529edf61",
   "metadata": {},
   "source": [
    "### Testing \n"
   ]
  },
  {
   "cell_type": "code",
   "execution_count": 17,
   "id": "b2361eaf",
   "metadata": {},
   "outputs": [
    {
     "name": "stdout",
     "output_type": "stream",
     "text": [
      "nice\n"
     ]
    }
   ],
   "source": [
    "import pandas as pd\n",
    "import csv\n",
    "import sqlite3\n",
    "\n",
    "conn = sqlite3.connect(\"organizedData.sqlite3\")\n",
    "df = pd.DataFrame()\n",
    "\n",
    "query_1 = \"SELECT id, title, date, language, restricted, rating, finished, words, hits, kudos, bookmarks, comments, description FROM StoryHeaders LIMIT 50000\"\n",
    "query_2 = \"SELECT * from Languages\"\n",
    "query_3 = \"SELECT * from Ratings\"\n",
    "query_4 = \"SELECT * from FinishedState\"\n",
    "\n",
    "pd.read_sql_query(query_3, conn)\n",
    "df = pd.read_sql_query(query_1, conn)\n",
    "lan = pd.read_sql_query(query_2, conn)\n",
    "rat = pd.read_sql_query(query_3, conn)\n",
    "fin = pd.read_sql_query(query_4, conn)\n",
    "conn.close()\n",
    "\n",
    "# Info on LIMIT: https://www.w3schools.com/sql/sql_top.asp\n",
    "print(\"nice\")"
   ]
  },
  {
   "cell_type": "code",
   "execution_count": 18,
   "id": "af61e5a1",
   "metadata": {},
   "outputs": [
    {
     "name": "stdout",
     "output_type": "stream",
     "text": [
      "          id                      title        date  language  restricted  \\\n",
      "1          3    Analysis of the Obvious  2008-09-13       1.0           0   \n",
      "2          5  Dense Like Chocolate Cake  2008-09-13       1.0           0   \n",
      "3          6                 Dedication  2008-09-13       1.0           0   \n",
      "4          7                 Dedication  2008-09-13       1.0           0   \n",
      "5          8  His Place In the Universe  2008-09-13       1.0           0   \n",
      "...      ...                        ...         ...       ...         ...   \n",
      "49995  58014                       Rain  1997-01-31       1.0           0   \n",
      "49996  58015              Muscle Memory  2010-01-31       1.0           0   \n",
      "49997  58016           Till You Love Me  2002-03-16       1.0           0   \n",
      "49998  58017    Something to Moan About  2010-01-31       1.0           0   \n",
      "49999  58018                  Me in You  2010-01-31       1.0           0   \n",
      "\n",
      "       rating  finished   words     hits  kudos  bookmarks  comments  \\\n",
      "1         1.0       1.0  2751.0   9643.0   43.0        3.0       1.0   \n",
      "2         1.0       1.0  4127.0  11831.0   24.0        6.0      73.0   \n",
      "3         2.0       1.0  5836.0  15812.0   25.0        6.0      57.0   \n",
      "4         2.0       1.0  5836.0   4803.0   51.0       13.0      65.0   \n",
      "5         0.0       1.0  1695.0  10520.0  202.0       30.0      56.0   \n",
      "...       ...       ...     ...      ...    ...        ...       ...   \n",
      "49995     1.0       1.0  1396.0   1315.0   34.0        0.0       1.0   \n",
      "49996     3.0       1.0  3807.0   4654.0  157.0       23.0       1.0   \n",
      "49997     0.0       1.0   566.0    452.0    5.0        1.0       1.0   \n",
      "49998     3.0       1.0  2877.0   1518.0   60.0       10.0       0.0   \n",
      "49999     3.0       1.0  5928.0    997.0   45.0        3.0       1.0   \n",
      "\n",
      "                                             description LanguageName  \\\n",
      "1      It requires a very unusual mind to undertake t...      English   \n",
      "2      A muttered insult takes on new meaning. Set du...      English   \n",
      "3      The breakup between Hiro and Ayaka leaves our ...      English   \n",
      "4      The breakup between Hiro and Ayaka leaves our ...      English   \n",
      "5      The things Aang and Zuko talk about when stuck...      English   \n",
      "...                                                  ...          ...   \n",
      "49995  How \"Resolutions\" started, in a rainstorm on N...      English   \n",
      "49996  Scott's had all he can take, and Logan adds fu...      English   \n",
      "49997  Yagami Taichi has two best friends... and he's...      English   \n",
      "49998  Moaning M as voyeuse: who does she see Severus...      English   \n",
      "49999     It's a mad season in LA as Lindsey comes home.      English   \n",
      "\n",
      "              RatingName FinishedStatus  \n",
      "1            Teen And Up       Finished  \n",
      "2            Teen And Up       Finished  \n",
      "3                 Mature       Finished  \n",
      "4                 Mature       Finished  \n",
      "5      General Audiences       Finished  \n",
      "...                  ...            ...  \n",
      "49995        Teen And Up       Finished  \n",
      "49996           Explicit       Finished  \n",
      "49997  General Audiences       Finished  \n",
      "49998           Explicit       Finished  \n",
      "49999           Explicit       Finished  \n",
      "\n",
      "[46910 rows x 16 columns]\n"
     ]
    },
    {
     "ename": "NameError",
     "evalue": "name 'done' is not defined",
     "output_type": "error",
     "traceback": [
      "\u001b[0;31m---------------------------------------------------------------------------\u001b[0m",
      "\u001b[0;31mNameError\u001b[0m                                 Traceback (most recent call last)",
      "Cell \u001b[0;32mIn[18], line 32\u001b[0m\n\u001b[1;32m     30\u001b[0m actual_df \u001b[38;5;241m=\u001b[39m df[df[\u001b[38;5;124m\"\u001b[39m\u001b[38;5;124mrestricted\u001b[39m\u001b[38;5;124m\"\u001b[39m] \u001b[38;5;241m==\u001b[39m \u001b[38;5;241m0\u001b[39m]\n\u001b[1;32m     31\u001b[0m \u001b[38;5;28mprint\u001b[39m(actual_df)\n\u001b[0;32m---> 32\u001b[0m \u001b[38;5;28mprint\u001b[39m(done)\n",
      "\u001b[0;31mNameError\u001b[0m: name 'done' is not defined"
     ]
    }
   ],
   "source": [
    "df[\"LanguageName\"] = None\n",
    "df[\"RatingName\"] = None\n",
    "df[\"FinishedStatus\"] = None\n",
    "\n",
    "for index in df.index.to_list():\n",
    "    lan_df = df[\"language\"]\n",
    "    try:\n",
    "        for iden in lan.index.to_list():\n",
    "            if int(lan_df.iloc[index]) == int(lan.loc[iden, \"id\"]):\n",
    "                df.loc[index, \"LanguageName\"] = lan.loc[iden, \"Language_Name\"]\n",
    "    except:\n",
    "        pass\n",
    "    \n",
    "    rat_df = df[\"rating\"]\n",
    "    try:\n",
    "        for iden in rat.index.to_list():\n",
    "            if int(rat_df.iloc[index]) == int(rat.loc[iden, \"id\"]):\n",
    "                df.loc[index, \"RatingName\"] = rat.loc[iden, \"name\"]\n",
    "    except:\n",
    "        pass\n",
    "\n",
    "    fin_df = df[\"finished\"]\n",
    "    try:\n",
    "        for iden in fin.index.to_list():\n",
    "            if int(fin_df.iloc[index]) == int(fin.loc[iden, \"id\"]):\n",
    "                df.loc[index, \"FinishedStatus\"] = fin.loc[iden,\"name\"]\n",
    "    except:\n",
    "        pass\n",
    "    \n",
    "actual_df = df[df[\"restricted\"] == 0]\n",
    "print(actual_df)\n",
    "print(\"done\")"
   ]
  },
  {
   "cell_type": "code",
   "execution_count": 21,
   "id": "92d5bc6a",
   "metadata": {},
   "outputs": [
    {
     "name": "stdout",
     "output_type": "stream",
     "text": [
      "done\n"
     ]
    }
   ],
   "source": [
    "import os\n",
    "\n",
    "# This bit creates a csv of the Data Frame from the above code\n",
    "\n",
    "# DO NOT RUN! \n",
    "\n",
    "try:\n",
    "    os.remove('project_info.csv')\n",
    "except:\n",
    "    pass\n",
    "\n",
    "actual_df.to_csv('project_info.csv')\n",
    "print('done')"
   ]
  },
  {
   "cell_type": "code",
   "execution_count": 10,
   "id": "6a84f614",
   "metadata": {
    "scrolled": true
   },
   "outputs": [
    {
     "data": {
      "text/plain": [
       "1.0"
      ]
     },
     "execution_count": 10,
     "metadata": {},
     "output_type": "execute_result"
    }
   ],
   "source": [
    "df.loc[5,\"finished\"]"
   ]
  },
  {
   "cell_type": "code",
   "execution_count": null,
   "id": "ca5995e7",
   "metadata": {},
   "outputs": [],
   "source": []
  }
 ],
 "metadata": {
  "kernelspec": {
   "display_name": "Python 3 (ipykernel)",
   "language": "python",
   "name": "python3"
  },
  "language_info": {
   "codemirror_mode": {
    "name": "ipython",
    "version": 3
   },
   "file_extension": ".py",
   "mimetype": "text/x-python",
   "name": "python",
   "nbconvert_exporter": "python",
   "pygments_lexer": "ipython3",
   "version": "3.11.5"
  }
 },
 "nbformat": 4,
 "nbformat_minor": 5
}
