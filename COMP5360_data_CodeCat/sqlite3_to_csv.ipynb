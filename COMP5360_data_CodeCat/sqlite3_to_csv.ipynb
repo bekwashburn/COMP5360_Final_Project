{
 "cells": [
  {
   "cell_type": "markdown",
   "id": "529edf61",
   "metadata": {},
   "source": [
    "### Testing \n"
   ]
  },
  {
   "cell_type": "code",
   "execution_count": 25,
   "id": "b2361eaf",
   "metadata": {},
   "outputs": [
    {
     "name": "stdout",
     "output_type": "stream",
     "text": [
      "nice\n"
     ]
    }
   ],
   "source": [
    "import pandas as pd\n",
    "import csv\n",
    "import sqlite3\n",
    "\n",
    "conn = sqlite3.connect(\"organizedData.sqlite3\")\n",
    "df = pd.DataFrame()\n",
    "\n",
    "query_1 = \"SELECT id, title, date, language, restricted, rating, finished, words, hits, kudos, bookmarks, comments, description FROM StoryHeaders LIMIT 100000\"\n",
    "query_2 = \"SELECT * from Languages\"\n",
    "query_3 = \"SELECT * from Ratings\"\n",
    "query_4 = \"SELECT * from FinishedState\"\n",
    "\n",
    "pd.read_sql_query(query_3, conn)\n",
    "df = pd.read_sql_query(query_1, conn)\n",
    "lan = pd.read_sql_query(query_2, conn)\n",
    "rat = pd.read_sql_query(query_3, conn)\n",
    "fin = pd.read_sql_query(query_4, conn)\n",
    "conn.close()\n",
    "\n",
    "# Info on LIMIT: https://www.w3schools.com/sql/sql_top.asp\n",
    "print(\"nice\")"
   ]
  },
  {
   "cell_type": "code",
   "execution_count": 26,
   "id": "5fb38f81",
   "metadata": {},
   "outputs": [
    {
     "name": "stdout",
     "output_type": "stream",
     "text": [
      "           id                                 title        date  language  \\\n",
      "1           3               Analysis of the Obvious  2008-09-13       1.0   \n",
      "2           5             Dense Like Chocolate Cake  2008-09-13       1.0   \n",
      "3           6                            Dedication  2008-09-13       1.0   \n",
      "4           7                            Dedication  2008-09-13       1.0   \n",
      "5           8             His Place In the Universe  2008-09-13       1.0   \n",
      "...       ...                                   ...         ...       ...   \n",
      "99993  118217                          The Bells...  2007-09-17       1.0   \n",
      "99995  118219                       Endless Road...  2006-08-19       1.0   \n",
      "99996  118220                               Pain...  2006-11-18       1.0   \n",
      "99997  118221   There, But for the Grace of Pt I...  2006-07-28       1.0   \n",
      "99998  118222  There, But for the Grace of Pt II...  2006-10-02       1.0   \n",
      "\n",
      "       restricted  rating  finished   words     hits  kudos  bookmarks  \\\n",
      "1               0     1.0       1.0  2751.0   9643.0   43.0        3.0   \n",
      "2               0     1.0       1.0  4127.0  11831.0   24.0        6.0   \n",
      "3               0     2.0       1.0  5836.0  15812.0   25.0        6.0   \n",
      "4               0     2.0       1.0  5836.0   4803.0   51.0       13.0   \n",
      "5               0     0.0       1.0  1695.0  10520.0  202.0       30.0   \n",
      "...           ...     ...       ...     ...      ...    ...        ...   \n",
      "99993           0     2.0       1.0   469.0    160.0    7.0        0.0   \n",
      "99995           0     2.0       1.0   160.0    118.0    2.0        0.0   \n",
      "99996           0     2.0       1.0  3787.0   1650.0   16.0        3.0   \n",
      "99997           0     2.0       1.0   921.0    217.0    3.0        1.0   \n",
      "99998           0     2.0       1.0   881.0    224.0    3.0        0.0   \n",
      "\n",
      "       comments                                        description  \\\n",
      "1           1.0  It requires a very unusual mind to undertake t...   \n",
      "2          73.0  A muttered insult takes on new meaning. Set du...   \n",
      "3          57.0  The breakup between Hiro and Ayaka leaves our ...   \n",
      "4          65.0  The breakup between Hiro and Ayaka leaves our ...   \n",
      "5          56.0  The things Aang and Zuko talk about when stuck...   \n",
      "...         ...                                                ...   \n",
      "99993       0.0  It is the depths of midnight. Dean swears some...   \n",
      "99995       2.0  Headlights cut/Through endless twilight/Eating...   \n",
      "99996       0.0  There came a point when it didn't matter anymo...   \n",
      "99997       2.0  Even when Mary died and left him with two smal...   \n",
      "99998       2.0         And he never thought once of stopping him.   \n",
      "\n",
      "      LanguageName         RatingName FinishedStatus  \n",
      "1          English        Teen And Up       Finished  \n",
      "2          English        Teen And Up       Finished  \n",
      "3          English             Mature       Finished  \n",
      "4          English             Mature       Finished  \n",
      "5          English  General Audiences       Finished  \n",
      "...            ...                ...            ...  \n",
      "99993      English             Mature       Finished  \n",
      "99995      English             Mature       Finished  \n",
      "99996      English             Mature       Finished  \n",
      "99997      English             Mature       Finished  \n",
      "99998      English             Mature       Finished  \n",
      "\n",
      "[93803 rows x 16 columns]\n",
      "done\n"
     ]
    }
   ],
   "source": [
    "df[\"LanguageName\"] = None\n",
    "df[\"RatingName\"] = None\n",
    "df[\"FinishedStatus\"] = None\n",
    "\n",
    "# I perpetually chain my indexes, so I used these to help me fix my code: https://stackoverflow.com/questions/32357311/python-pandas-how-to-avoid-chained-assignment\n",
    "# https://pandas.pydata.org/docs/reference/api/pandas.DataFrame.loc.html\n",
    "\n",
    "for index in df.index.to_list():\n",
    "    lan_df = df[\"language\"]\n",
    "    try:\n",
    "        for iden in lan.index.to_list():\n",
    "            if int(lan_df.iloc[index]) == int(lan.loc[iden, \"id\"]):\n",
    "                df.loc[index, \"LanguageName\"] = lan.loc[iden, \"Language_Name\"]\n",
    "    except:\n",
    "        pass\n",
    "    \n",
    "    rat_df = df[\"rating\"]\n",
    "    try:\n",
    "        for iden in rat.index.to_list():\n",
    "            if int(rat_df.iloc[index]) == int(rat.loc[iden, \"id\"]):\n",
    "                df.loc[index, \"RatingName\"] = rat.loc[iden, \"name\"]\n",
    "    except:\n",
    "        pass\n",
    "\n",
    "    fin_df = df[\"finished\"]\n",
    "    try:\n",
    "        for iden in fin.index.to_list():\n",
    "            if int(fin_df.iloc[index]) == int(fin.loc[iden, \"id\"]):\n",
    "                df.loc[index, \"FinishedStatus\"] = fin.loc[iden,\"name\"]\n",
    "    except:\n",
    "        pass\n",
    "    \n",
    "actual_df = df[df[\"restricted\"] == 0]\n",
    "print(actual_df)\n",
    "print(\"done\")"
   ]
  },
  {
   "cell_type": "code",
   "execution_count": 27,
   "id": "92d5bc6a",
   "metadata": {},
   "outputs": [
    {
     "name": "stdout",
     "output_type": "stream",
     "text": [
      "done\n"
     ]
    }
   ],
   "source": [
    "import os\n",
    "\n",
    "# This bit creates a csv of the Data Frame from the above code\n",
    "\n",
    "# DO NOT RUN! \n",
    "\n",
    "try:\n",
    "    os.remove('reduced_project_info.csv')\n",
    "except:\n",
    "    pass\n",
    "\n",
    "actual_df.to_csv('reduced_project_info.csv')\n",
    "print('done')"
   ]
  },
  {
   "cell_type": "code",
   "execution_count": 18,
   "id": "ca5995e7",
   "metadata": {},
   "outputs": [
    {
     "name": "stdout",
     "output_type": "stream",
     "text": [
      "      storyId  chapterNumber  \\\n",
      "0           3              0   \n",
      "1          35              0   \n",
      "2          63              0   \n",
      "3          87              0   \n",
      "4         123              0   \n",
      "...       ...            ...   \n",
      "9995   182783              5   \n",
      "9996   182783              6   \n",
      "9997   182783              7   \n",
      "9998   182807              0   \n",
      "9999   182830              0   \n",
      "\n",
      "                                                   text  \n",
      "0     It requires a very unusual mind to undertake t...  \n",
      "1     I told Gilina I could have fallen in love with...  \n",
      "2     Sometimes life just seemed to happen to Rodney...  \n",
      "3     \"Hey, Doc,\" Jayne said as he breezed into the ...  \n",
      "4     My friend, and lately, confidante, Arabella Bl...  \n",
      "...                                                 ...  \n",
      "9995  Fuck fuck fuck fuck fuck! Why did he say that?...  \n",
      "9996  When Tommy wakes up, he starts to freak out. T...  \n",
      "9997  Everything is going great. That is until Adam ...  \n",
      "9998  Elena tried not to think of the people or the ...  \n",
      "9999  That this year sucked was a given. That it cou...  \n",
      "\n",
      "[10000 rows x 3 columns]\n"
     ]
    }
   ],
   "source": [
    "import pandas as pd\n",
    "import csv\n",
    "import sqlite3\n",
    "# THIS IS BEKS MESSING WITH THE CHAPTERS\n",
    "\n",
    "conn = sqlite3.connect(\"organizedData.sqlite3\")\n",
    "query_chapts = \"SELECT storyId, idx, text FROM Chapters LIMIT 000\"\n",
    "\n",
    "chapters = pd.read_sql_query(query_chapts, conn)\n",
    "\n",
    "# We want the \"text\" column, as someone has already sorted through it for us (I love theCodeCat!)\n",
    "\n",
    "chapters = chapters.rename(columns={\"idx\": \"chapterNumber\"})\n",
    "print(chapters)"
   ]
  },
  {
   "cell_type": "code",
   "execution_count": 19,
   "id": "ba1beece",
   "metadata": {},
   "outputs": [
    {
     "name": "stdout",
     "output_type": "stream",
     "text": [
      "done\n"
     ]
    }
   ],
   "source": [
    "import os\n",
    "\n",
    "# This bit creates a csv of the Data Frame from the above code\n",
    "\n",
    "# DO NOT RUN! \n",
    "\n",
    "try:\n",
    "    os.remove('reduced_chapter_text')\n",
    "except:\n",
    "    pass\n",
    "\n",
    "chapters.to_csv('reduced_chapter_text.csv')\n",
    "print('done')"
   ]
  },
  {
   "cell_type": "code",
   "execution_count": null,
   "id": "f67c0184",
   "metadata": {},
   "outputs": [],
   "source": []
  }
 ],
 "metadata": {
  "kernelspec": {
   "display_name": "Python 3 (ipykernel)",
   "language": "python",
   "name": "python3"
  },
  "language_info": {
   "codemirror_mode": {
    "name": "ipython",
    "version": 3
   },
   "file_extension": ".py",
   "mimetype": "text/x-python",
   "name": "python",
   "nbconvert_exporter": "python",
   "pygments_lexer": "ipython3",
   "version": "3.11.5"
  }
 },
 "nbformat": 4,
 "nbformat_minor": 5
}
