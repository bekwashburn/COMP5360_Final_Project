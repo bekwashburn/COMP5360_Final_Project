{
 "cells": [
  {
   "cell_type": "markdown",
   "id": "529edf61",
   "metadata": {},
   "source": [
    "### Testing \n"
   ]
  },
  {
   "cell_type": "code",
   "execution_count": 18,
   "id": "b2361eaf",
   "metadata": {},
   "outputs": [
    {
     "name": "stdout",
     "output_type": "stream",
     "text": [
      "finished\n"
     ]
    }
   ],
   "source": [
    "import pandas as pd\n",
    "import csv\n",
    "import sqlite3\n",
    "\n",
    "\n",
    "# This code creates a Pandas DataFrame. It is currently a VERY simple one.\n",
    "\n",
    "# DO NOT USE!\n",
    "\n",
    "conn = sqlite3.connect(\"organizedData.sqlite3\")\n",
    "df = pd.DataFrame()\n",
    "\n",
    "query = \"SELECT processDate, rating, finished, title, language, words, hits, kudos, comments, bookmarks, date, restricted FROM StoryHeaders\"\n",
    "df = pd.read_sql_query(query, conn)\n",
    "conn.close()\n",
    "\n",
    "print(\"finished\")"
   ]
  },
  {
   "cell_type": "code",
   "execution_count": 23,
   "id": "92d5bc6a",
   "metadata": {},
   "outputs": [
    {
     "name": "stdout",
     "output_type": "stream",
     "text": [
      "                processDate  rating  finished                          title  \\\n",
      "0                      None     NaN       NaN                           None   \n",
      "1       2020-07-29 21:35:52     1.0       1.0        Analysis of the Obvious   \n",
      "2       2020-07-29 21:38:01     1.0       1.0      Dense Like Chocolate Cake   \n",
      "3       2020-07-29 21:38:01     2.0       1.0                     Dedication   \n",
      "4       2020-07-29 21:38:01     2.0       1.0                     Dedication   \n",
      "...                     ...     ...       ...                            ...   \n",
      "999995  2020-07-30 00:13:46    -1.0       1.0               Finally, Freedom   \n",
      "999996  2020-07-30 00:02:11     1.0       1.0  Let's Not Tell Dad About This   \n",
      "999997                 None     NaN       NaN                           None   \n",
      "999998  2020-07-30 00:15:37     1.0       1.0               Moira's Thoughts   \n",
      "999999  2020-07-30 00:21:46    -1.0       1.0               Forgotten Dreams   \n",
      "\n",
      "        language   words     hits  kudos  comments  bookmarks        date  \\\n",
      "0            NaN     NaN      NaN    NaN       NaN        NaN        None   \n",
      "1            1.0  2751.0   9643.0   43.0       1.0        3.0  2008-09-13   \n",
      "2            1.0  4127.0  11831.0   24.0      73.0        6.0  2008-09-13   \n",
      "3            1.0  5836.0  15812.0   25.0      57.0        6.0  2008-09-13   \n",
      "4            1.0  5836.0   4803.0   51.0      65.0       13.0  2008-09-13   \n",
      "...          ...     ...      ...    ...       ...        ...         ...   \n",
      "999995       1.0  2775.0   1561.0  180.0       8.0       18.0  2014-05-28   \n",
      "999996       1.0   790.0    913.0   41.0       3.0        1.0  2014-05-04   \n",
      "999997       NaN     NaN      NaN    NaN       NaN        NaN        None   \n",
      "999998       1.0   654.0    158.0    2.0       0.0        0.0  2014-05-04   \n",
      "999999       1.0  1935.0   2232.0   47.0       0.0        6.0  2014-05-04   \n",
      "\n",
      "        restricted  \n",
      "0                1  \n",
      "1                0  \n",
      "2                0  \n",
      "3                0  \n",
      "4                0  \n",
      "...            ...  \n",
      "999995           0  \n",
      "999996           0  \n",
      "999997           1  \n",
      "999998           0  \n",
      "999999           0  \n",
      "\n",
      "[1000000 rows x 12 columns]\n",
      "done\n"
     ]
    }
   ],
   "source": [
    "import os\n",
    "\n",
    "# This bit creates a csv of the Data Frame from the above code\n",
    "\n",
    "# DO NOT RUN! \n",
    "\n",
    "os.remove('project_info.csv')\n",
    "\n",
    "df = df.iloc[:1000000]\n",
    "print(df)\n",
    "df.to_csv('project_info.csv')\n",
    "print('done')"
   ]
  },
  {
   "cell_type": "code",
   "execution_count": 20,
   "id": "6a84f614",
   "metadata": {
    "scrolled": true
   },
   "outputs": [
    {
     "name": "stdout",
     "output_type": "stream",
     "text": [
      "                 processDate  rating  finished  \\\n",
      "0                       None     NaN       NaN   \n",
      "1        2020-07-29 21:35:52     1.0       1.0   \n",
      "2        2020-07-29 21:38:01     1.0       1.0   \n",
      "3        2020-07-29 21:38:01     2.0       1.0   \n",
      "4        2020-07-29 21:38:01     2.0       1.0   \n",
      "...                      ...     ...       ...   \n",
      "6279778  2020-07-30 10:29:27     1.0       0.0   \n",
      "6279779  2020-07-30 10:43:53     0.0       0.0   \n",
      "6279780  2020-07-30 10:39:29     0.0       1.0   \n",
      "6279781  2020-07-30 10:29:35     1.0       1.0   \n",
      "6279782  2020-07-30 10:39:18     1.0       1.0   \n",
      "\n",
      "                                         title  language   words     hits  \\\n",
      "0                                         None       NaN     NaN      NaN   \n",
      "1                      Analysis of the Obvious       1.0  2751.0   9643.0   \n",
      "2                    Dense Like Chocolate Cake       1.0  4127.0  11831.0   \n",
      "3                                   Dedication       1.0  5836.0  15812.0   \n",
      "4                                   Dedication       1.0  5836.0   4803.0   \n",
      "...                                        ...       ...     ...      ...   \n",
      "6279778  worlds collide (the fire in her eyes)       1.0  5395.0     22.0   \n",
      "6279779       The Deed of the Invisible Weasel       1.0  4969.0    142.0   \n",
      "6279780                    under the starlight       1.0   638.0     81.0   \n",
      "6279781        close in on me (im letting you)       1.0  1118.0    266.0   \n",
      "6279782    hands on my hands, stone in my shoe       1.0  4516.0    464.0   \n",
      "\n",
      "         kudos  comments  bookmarks        date  restricted  \n",
      "0          NaN       NaN        NaN        None           1  \n",
      "1         43.0       1.0        3.0  2008-09-13           0  \n",
      "2         24.0      73.0        6.0  2008-09-13           0  \n",
      "3         25.0      57.0        6.0  2008-09-13           0  \n",
      "4         51.0      65.0       13.0  2008-09-13           0  \n",
      "...        ...       ...        ...         ...         ...  \n",
      "6279778    1.0       0.0        0.0  2020-07-17           0  \n",
      "6279779    8.0       0.0        2.0  2020-07-17           0  \n",
      "6279780   22.0       8.0        0.0  2020-07-17           0  \n",
      "6279781   70.0      16.0        5.0  2020-07-17           0  \n",
      "6279782  122.0      17.0       22.0  2020-07-17           0  \n",
      "\n",
      "[6279783 rows x 12 columns]\n"
     ]
    }
   ],
   "source": [
    "# Talking with Professor Isaacs, we need to look into join to figure out \n",
    "# the text correlated with integer values.\n",
    "\n",
    "print(df)\n"
   ]
  },
  {
   "cell_type": "code",
   "execution_count": null,
   "id": "ca5995e7",
   "metadata": {},
   "outputs": [],
   "source": []
  }
 ],
 "metadata": {
  "kernelspec": {
   "display_name": "Python 3 (ipykernel)",
   "language": "python",
   "name": "python3"
  },
  "language_info": {
   "codemirror_mode": {
    "name": "ipython",
    "version": 3
   },
   "file_extension": ".py",
   "mimetype": "text/x-python",
   "name": "python",
   "nbconvert_exporter": "python",
   "pygments_lexer": "ipython3",
   "version": "3.11.5"
  }
 },
 "nbformat": 4,
 "nbformat_minor": 5
}
